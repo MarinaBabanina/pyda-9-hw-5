{
 "cells": [
  {
   "cell_type": "markdown",
   "metadata": {},
   "source": [
    "# Домашнее задание по теме «Функции»"
   ]
  },
  {
   "cell_type": "markdown",
   "metadata": {},
   "source": [
    "\n",
    "Вы работаете секретарем и вам постоянно приходят различные документы. Вы должны быть очень внимательны, чтобы не потерять ни один документ. Каталог документов хранится в следующем виде:"
   ]
  },
  {
   "cell_type": "code",
   "execution_count": 1,
   "metadata": {},
   "outputs": [],
   "source": [
    "\n",
    "documents = [\n",
    "    {'type': 'passport', 'number': '2207 876234', 'name': 'Василий Гупкин'},\n",
    "    {'type': 'invoice', 'number': '11-2', 'name': 'Геннадий Покемонов'},\n",
    "    {'type': 'insurance', 'number': '10006', 'name': 'Аристарх Павлов'}\n",
    "]"
   ]
  },
  {
   "cell_type": "markdown",
   "metadata": {},
   "source": [
    "Перечень полок, на которых находятся документы хранится в следующем виде:"
   ]
  },
  {
   "cell_type": "code",
   "execution_count": 2,
   "metadata": {},
   "outputs": [],
   "source": [
    "directories = {\n",
    "    '1': ['2207 876234', '11-2'],\n",
    "    '2': ['10006'],\n",
    "    '3': []\n",
    "}"
   ]
  },
  {
   "cell_type": "markdown",
   "metadata": {},
   "source": [
    "\n",
    "Необходимо реализовать пользовательские команды (внимание! это не название функций, которые должны быть выразительными, а команды, которые вводит пользователь, чтобы получить необходимый результат):\n",
    "\n",
    "  * p – people – команда, которая спросит номер документа и выведет имя человека, которому он принадлежит;  \n",
    "  * s – shelf – команда, которая спросит номер документа и выведет номер полки, на которой он находится. Правильно обработайте ситуации, когда пользователь будет вводить несуществующий документ.  \n",
    "  * l – list – команда, которая выведет список всех документов в формате: passport \"2207 876234\" \"Василий Гупкин\"  \n",
    "  * as – add shelf – команда, которая спросит номер новой полки и добавит ее в перечень. Предусмотрите случай, когда пользователь добавляет полку, которая уже существует.  \n",
    "  * d – delete – команда, которая спросит номер документа и удалит его из каталога и из перечня полок. Предусмотрите сценарий, когда пользователь вводит несуществующий документ;  \n",
    "  * m – move – команда, которая спросит номер документа и целевую полку и переместит его с текущей полки на целевую. Корректно обработайте кейсы, когда пользователь пытается переместить несуществующий документ или переместить документ на несуществующую полку;  \n",
    "  * a – add – команда, которая добавит новый документ в каталог и в перечень полок, спросив его номер, тип, имя владельца и номер полки, на котором он будет храниться. Корректно обработайте ситуацию, когда пользователь будет пытаться добавить документ на несуществующую полку."
   ]
  },
  {
   "cell_type": "code",
   "execution_count": 149,
   "metadata": {},
   "outputs": [],
   "source": [
    "def people():\n",
    "    \"\"\"\n",
    "    На входе спрашивается номер документа, на выходе  выводится имя человека, которому он принадлежит\n",
    "    \"\"\"\n",
    "    inp_number = input('Введите номер документа: ')\n",
    "    name_out = None\n",
    "    for document in documents:\n",
    "        if inp_number == document['number']:\n",
    "            name_out = document['name']\n",
    "            print(f'Документ принадлежит: {name_out}')\n",
    "            \n",
    "    if name_out == None:\n",
    "        print('Документа не существует.')"
   ]
  },
  {
   "cell_type": "code",
   "execution_count": 150,
   "metadata": {},
   "outputs": [],
   "source": [
    "def shelf():\n",
    "    \"\"\"\n",
    "    На входе спрашивается номер документа, на выходе  выводится номер полки, на которой он лежит\n",
    "    \"\"\"\n",
    "    inp_number = input('Введите номер документа: ')\n",
    "    numb_sh_out = None\n",
    "    if inp_number == '':\n",
    "        print('Вы не ввели номер документа.')\n",
    "    else:\n",
    "        for sh_k, sh_v in directories.items():\n",
    "            if inp_number in sh_v:\n",
    "                numb_sh_out = sh_k\n",
    "                print(f'Документ находится на полке: {numb_sh_out}')\n",
    "                return(numb_sh_out)\n",
    "                \n",
    "        if numb_sh_out == None:\n",
    "            print('Документа не существует.')\n",
    "    "
   ]
  },
  {
   "cell_type": "code",
   "execution_count": 151,
   "metadata": {},
   "outputs": [],
   "source": [
    "def list_():\n",
    "    \"\"\"\n",
    "    Функция выводит список всех документов.\n",
    "    \"\"\"\n",
    "    for document in documents:\n",
    "        print(f'{document[\"type\"]} \"{document[\"number\"]}\" \"{document[\"name\"]}\"')"
   ]
  },
  {
   "cell_type": "code",
   "execution_count": 152,
   "metadata": {},
   "outputs": [],
   "source": [
    "def add_shell():\n",
    "    \"\"\"\n",
    "    Добавление новой полки в перечень.\n",
    "    \"\"\"\n",
    "    inp_number = input('Введите номер новой полки: ')\n",
    "    if inp_number in directories.keys():\n",
    "        print('Полка с таким номером уже существует!')\n",
    "    else:\n",
    "        directories[inp_number] = []\n",
    "        print(f'Полка номер {inp_number} добавлена.')"
   ]
  },
  {
   "cell_type": "code",
   "execution_count": 153,
   "metadata": {},
   "outputs": [],
   "source": [
    "def del_directories(numb):\n",
    "    \"\"\"\n",
    "    Удаление документа из перечня папок по его номеру.\n",
    "    \"\"\"\n",
    "    for sh_k, sh_v in directories.items():\n",
    "        if numb in sh_v:\n",
    "            del(directories[sh_k][sh_v.index(numb)])       "
   ]
  },
  {
   "cell_type": "code",
   "execution_count": 154,
   "metadata": {},
   "outputs": [],
   "source": [
    "def delete_():\n",
    "    \"\"\"\n",
    "    Удаление документа из каталога и перечня папок по его номеру.\n",
    "    \"\"\"\n",
    "    inp_number = input('Введите номер документа: ')\n",
    "    check_k = None\n",
    "    ind = 0\n",
    "    for document in documents:\n",
    "        if inp_number == document['number']:\n",
    "            check_k = inp_number\n",
    "            del(documents[ind])\n",
    "        ind += 1\n",
    "    \n",
    "    del_directories(inp_number)\n",
    "                \n",
    "    if check_k == None:\n",
    "        print('Документа не существует.')\n",
    "    else:\n",
    "        print(f'Документ \"{inp_number}\" удален.')\n",
    "        print(f'Каталог:')\n",
    "        print(f'{documents}')\n",
    "        print(f'Перечень папок:')\n",
    "        print(directories)\n",
    "    "
   ]
  },
  {
   "cell_type": "code",
   "execution_count": 155,
   "metadata": {},
   "outputs": [],
   "source": [
    "def move():\n",
    "    \"\"\"\n",
    "    Команда, которая спросит номер документа и целевую полку и переместит его с текущей полки на целевую.\n",
    "    \"\"\"\n",
    "    inp_number = input('Введите номер документа: ')\n",
    "    inp_sh = input('Введите номер полки: ')\n",
    "    check_numb = None\n",
    "    \n",
    "    if inp_sh in directories.keys():\n",
    "        for val in directories.values():\n",
    "            if inp_number in val:\n",
    "                check_numb = inp_number\n",
    "                del_directories(inp_number)\n",
    "                directories[inp_sh].append(inp_number)\n",
    "                \n",
    "        if check_numb == None:\n",
    "            print('Документа не существует.')  \n",
    "        else:\n",
    "            print(f'Документ перемещен')\n",
    "            print(directories)\n",
    "    else:\n",
    "        print('Выбранной полки не существует.')"
   ]
  },
  {
   "cell_type": "code",
   "execution_count": 156,
   "metadata": {},
   "outputs": [],
   "source": [
    "def add():\n",
    "    \"\"\"\n",
    "    Добавление нового документа в каталог и в перечень полок, \n",
    "    по его номеру, типу, имени владельца и номеру полки, на котором он будет храниться.\n",
    "    \"\"\"\n",
    "    inp_number = input('Введите номер документа: ')\n",
    "    inp_type = input('Введите тип документа: ')\n",
    "    inp_name = input('Введите имя владельца: ')\n",
    "    inp_sh = input('Введите номер полки, где будет храниться документ: ')\n",
    "    \n",
    "    if inp_sh in directories.keys():\n",
    "        documents.append({'type': inp_type, 'number': inp_number, 'name': inp_name})\n",
    "        directories[inp_sh].append(inp_number) \n",
    "        print(f'Документ добавлен.')\n",
    "        print(documents)\n",
    "        print(directories)\n",
    "    else:\n",
    "        print('Выбранной полки не существует.')"
   ]
  },
  {
   "cell_type": "code",
   "execution_count": 159,
   "metadata": {},
   "outputs": [],
   "source": [
    "def main():\n",
    "    while True:\n",
    "        number = input('Введите команду: ')\n",
    "        if number == 'p':\n",
    "            people()\n",
    "        elif number == 's':\n",
    "            shelf()\n",
    "        elif number == 'l':\n",
    "            list_()\n",
    "        elif number == 'as':\n",
    "            add_shell()\n",
    "        elif number == 'd':\n",
    "            delete_()\n",
    "        elif number == 'm':\n",
    "            move()\n",
    "        elif number == 'a':\n",
    "            add()\n",
    "        elif number == 'q':\n",
    "            break\n",
    "        else:\n",
    "            print('Выбранной команды не существует.')"
   ]
  },
  {
   "cell_type": "code",
   "execution_count": 158,
   "metadata": {},
   "outputs": [
    {
     "name": "stdout",
     "output_type": "stream",
     "text": [
      "Введите команду: p\n",
      "Введите номер документа: 11-2\n",
      "Документ принадлежит: Геннадий Покемонов\n",
      "Введите команду: p\n",
      "Введите номер документа: sf\n",
      "Документа не существует.\n",
      "Введите команду: s\n",
      "Введите номер документа: 10006\n",
      "Документ находится на полке: 2\n",
      "Введите команду: s\n",
      "Введите номер документа: 4\n",
      "Документа не существует.\n",
      "Введите команду: l\n",
      "passport \"2207 876234\" \"Василий Гупкин\"\n",
      "invoice \"11-2\" \"Геннадий Покемонов\"\n",
      "insurance \"10006\" \"Аристарх Павлов\"\n",
      "Введите команду: as\n",
      "Введите номер новой полки: 5\n",
      "Полка номер 5 добавлена.\n",
      "Введите команду: as\n",
      "Введите номер новой полки: 1\n",
      "Полка с таким номером уже существует!\n",
      "Введите команду: as\n",
      "Введите номер новой полки: 5\n",
      "Полка с таким номером уже существует!\n",
      "Введите команду: d\n",
      "Введите номер документа: 11-2\n",
      "Документ \"11-2\" удален.\n",
      "Каталог:\n",
      "[{'type': 'passport', 'number': '2207 876234', 'name': 'Василий Гупкин'}, {'type': 'insurance', 'number': '10006', 'name': 'Аристарх Павлов'}]\n",
      "Перечень папок:\n",
      "{'1': ['2207 876234'], '2': ['10006'], '3': [], '5': []}\n",
      "Введите команду: m\n",
      "Введите номер документа: 2207 876234\n",
      "Введите номер полки: 5\n",
      "Документ перемещен\n",
      "{'1': [], '2': ['10006'], '3': [], '5': ['2207 876234']}\n",
      "Введите команду: m\n",
      "Введите номер документа: 2207 876234\n",
      "Введите номер полки: 6\n",
      "Выбранной полки не существует.\n",
      "Введите команду: a\n",
      "Введите номер документа: 12345\n",
      "Введите тип документа: diplom\n",
      "Введите имя владельца: Marina Babanina\n",
      "Введите номер полки, где будет храниться документ: 3\n",
      "Документ добавлен.\n",
      "[{'type': 'passport', 'number': '2207 876234', 'name': 'Василий Гупкин'}, {'type': 'insurance', 'number': '10006', 'name': 'Аристарх Павлов'}, {'type': 'diplom', 'number': '12345', 'name': 'Marina Babanina'}]\n",
      "{'1': [], '2': ['10006'], '3': ['12345'], '5': ['2207 876234']}\n",
      "Введите команду: a\n",
      "Введите номер документа: 12345\n",
      "Введите тип документа: diplom\n",
      "Введите имя владельца: Marina Babanina\n",
      "Введите номер полки, где будет храниться документ: 7\n",
      "Выбранной полки не существует.\n",
      "Введите команду: q\n"
     ]
    }
   ],
   "source": [
    "documents = [\n",
    "    {'type': 'passport', 'number': '2207 876234', 'name': 'Василий Гупкин'},\n",
    "    {'type': 'invoice', 'number': '11-2', 'name': 'Геннадий Покемонов'},\n",
    "    {'type': 'insurance', 'number': '10006', 'name': 'Аристарх Павлов'}\n",
    "]\n",
    "\n",
    "directories = {\n",
    "    '1': ['2207 876234', '11-2'],\n",
    "    '2': ['10006'],\n",
    "    '3': []\n",
    "}\n",
    "\n",
    "main()"
   ]
  },
  {
   "cell_type": "code",
   "execution_count": null,
   "metadata": {},
   "outputs": [],
   "source": []
  }
 ],
 "metadata": {
  "kernelspec": {
   "display_name": "Python 3",
   "language": "python",
   "name": "python3"
  },
  "language_info": {
   "codemirror_mode": {
    "name": "ipython",
    "version": 3
   },
   "file_extension": ".py",
   "mimetype": "text/x-python",
   "name": "python",
   "nbconvert_exporter": "python",
   "pygments_lexer": "ipython3",
   "version": "3.7.6"
  }
 },
 "nbformat": 4,
 "nbformat_minor": 4
}
